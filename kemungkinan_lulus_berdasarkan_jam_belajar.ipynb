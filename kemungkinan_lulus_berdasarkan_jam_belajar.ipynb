{
  "nbformat": 4,
  "nbformat_minor": 0,
  "metadata": {
    "colab": {
      "provenance": [],
      "gpuType": "T4",
      "authorship_tag": "ABX9TyNtnlvXBWUb0COoMyN8PdlE",
      "include_colab_link": true
    },
    "kernelspec": {
      "name": "python3",
      "display_name": "Python 3"
    },
    "language_info": {
      "name": "python"
    },
    "accelerator": "GPU"
  },
  "cells": [
    {
      "cell_type": "markdown",
      "metadata": {
        "id": "view-in-github",
        "colab_type": "text"
      },
      "source": [
        "<a href=\"https://colab.research.google.com/github/chindyfebryan/tugas-simple-neural-network/blob/main/kemungkinan_lulus_berdasarkan_jam_belajar.ipynb\" target=\"_parent\"><img src=\"https://colab.research.google.com/assets/colab-badge.svg\" alt=\"Open In Colab\"/></a>"
      ]
    },
    {
      "cell_type": "code",
      "execution_count": 24,
      "metadata": {
        "id": "TUkx_E_ow8-3"
      },
      "outputs": [],
      "source": [
        "import numpy as np\n",
        "import tensorflow as tf\n",
        "import matplotlib.pyplot as plt\n",
        "from tensorflow import keras\n",
        "from tensorflow.keras.utils import plot_model"
      ]
    },
    {
      "cell_type": "code",
      "source": [
        "# Jam belajar dan status kelulusan\n",
        "# [jam_belajar, kelulusan]\n",
        "data = np.array([\n",
        "    [1, 0],\n",
        "    [2, 0],\n",
        "    [3, 0],\n",
        "    [4, 1],\n",
        "    [5, 1],\n",
        "    [6, 1],\n",
        "])\n",
        "\n",
        "x_train = data[:, 0]  # fitur: jam belajar\n",
        "y_train = data[:, 1]  # label: kelulusan (0 atau 1)"
      ],
      "metadata": {
        "id": "MzbvXmfkxaKg"
      },
      "execution_count": null,
      "outputs": []
    },
    {
      "cell_type": "code",
      "source": [
        "model = keras.Sequential([\n",
        "    keras.layers.Dense(10, activation='relu', input_shape=(1,)),  # layer tersembunyi dengan 10 neuron\n",
        "    keras.layers.Dense(1, activation='sigmoid')  # layer output untuk klasifikasi biner\n",
        "])\n",
        "\n",
        "model.compile(optimizer='adam', loss='binary_crossentropy', metrics=['accuracy'])"
      ],
      "metadata": {
        "id": "2dPvKQ00xpdz"
      },
      "execution_count": null,
      "outputs": []
    },
    {
      "cell_type": "code",
      "source": [
        "#training\n",
        "model.fit(x_train, y_train, epochs=100)"
      ],
      "metadata": {
        "colab": {
          "base_uri": "https://localhost:8080/"
        },
        "id": "w_DWu6V1xzMg",
        "outputId": "e1d3f05c-3002-46ad-8d60-700fbc8e5b1c"
      },
      "execution_count": null,
      "outputs": [
        {
          "output_type": "stream",
          "name": "stdout",
          "text": [
            "Epoch 1/100\n",
            "1/1 [==============================] - 0s 13ms/step - loss: 0.5627 - accuracy: 0.6667\n",
            "Epoch 2/100\n",
            "1/1 [==============================] - 0s 10ms/step - loss: 0.5624 - accuracy: 0.6667\n",
            "Epoch 3/100\n",
            "1/1 [==============================] - 0s 10ms/step - loss: 0.5621 - accuracy: 0.6667\n",
            "Epoch 4/100\n",
            "1/1 [==============================] - 0s 9ms/step - loss: 0.5618 - accuracy: 0.6667\n",
            "Epoch 5/100\n",
            "1/1 [==============================] - 0s 10ms/step - loss: 0.5615 - accuracy: 0.6667\n",
            "Epoch 6/100\n",
            "1/1 [==============================] - 0s 11ms/step - loss: 0.5612 - accuracy: 0.6667\n",
            "Epoch 7/100\n",
            "1/1 [==============================] - 0s 10ms/step - loss: 0.5609 - accuracy: 0.6667\n",
            "Epoch 8/100\n",
            "1/1 [==============================] - 0s 9ms/step - loss: 0.5606 - accuracy: 0.6667\n",
            "Epoch 9/100\n",
            "1/1 [==============================] - 0s 10ms/step - loss: 0.5603 - accuracy: 0.6667\n",
            "Epoch 10/100\n",
            "1/1 [==============================] - 0s 10ms/step - loss: 0.5600 - accuracy: 0.6667\n",
            "Epoch 11/100\n",
            "1/1 [==============================] - 0s 13ms/step - loss: 0.5597 - accuracy: 0.6667\n",
            "Epoch 12/100\n",
            "1/1 [==============================] - 0s 9ms/step - loss: 0.5594 - accuracy: 0.6667\n",
            "Epoch 13/100\n",
            "1/1 [==============================] - 0s 9ms/step - loss: 0.5591 - accuracy: 0.6667\n",
            "Epoch 14/100\n",
            "1/1 [==============================] - 0s 13ms/step - loss: 0.5588 - accuracy: 0.6667\n",
            "Epoch 15/100\n",
            "1/1 [==============================] - 0s 15ms/step - loss: 0.5584 - accuracy: 0.6667\n",
            "Epoch 16/100\n",
            "1/1 [==============================] - 0s 14ms/step - loss: 0.5581 - accuracy: 0.6667\n",
            "Epoch 17/100\n",
            "1/1 [==============================] - 0s 11ms/step - loss: 0.5578 - accuracy: 0.6667\n",
            "Epoch 18/100\n",
            "1/1 [==============================] - 0s 11ms/step - loss: 0.5575 - accuracy: 0.6667\n",
            "Epoch 19/100\n",
            "1/1 [==============================] - 0s 8ms/step - loss: 0.5572 - accuracy: 0.6667\n",
            "Epoch 20/100\n",
            "1/1 [==============================] - 0s 10ms/step - loss: 0.5569 - accuracy: 0.6667\n",
            "Epoch 21/100\n",
            "1/1 [==============================] - 0s 12ms/step - loss: 0.5566 - accuracy: 0.6667\n",
            "Epoch 22/100\n",
            "1/1 [==============================] - 0s 13ms/step - loss: 0.5562 - accuracy: 0.6667\n",
            "Epoch 23/100\n",
            "1/1 [==============================] - 0s 11ms/step - loss: 0.5559 - accuracy: 0.6667\n",
            "Epoch 24/100\n",
            "1/1 [==============================] - 0s 10ms/step - loss: 0.5556 - accuracy: 0.6667\n",
            "Epoch 25/100\n",
            "1/1 [==============================] - 0s 12ms/step - loss: 0.5553 - accuracy: 0.6667\n",
            "Epoch 26/100\n",
            "1/1 [==============================] - 0s 11ms/step - loss: 0.5550 - accuracy: 0.6667\n",
            "Epoch 27/100\n",
            "1/1 [==============================] - 0s 10ms/step - loss: 0.5547 - accuracy: 0.6667\n",
            "Epoch 28/100\n",
            "1/1 [==============================] - 0s 10ms/step - loss: 0.5543 - accuracy: 0.6667\n",
            "Epoch 29/100\n",
            "1/1 [==============================] - 0s 10ms/step - loss: 0.5540 - accuracy: 0.6667\n",
            "Epoch 30/100\n",
            "1/1 [==============================] - 0s 9ms/step - loss: 0.5537 - accuracy: 0.6667\n",
            "Epoch 31/100\n",
            "1/1 [==============================] - 0s 9ms/step - loss: 0.5534 - accuracy: 0.6667\n",
            "Epoch 32/100\n",
            "1/1 [==============================] - 0s 12ms/step - loss: 0.5530 - accuracy: 0.6667\n",
            "Epoch 33/100\n",
            "1/1 [==============================] - 0s 12ms/step - loss: 0.5527 - accuracy: 0.6667\n",
            "Epoch 34/100\n",
            "1/1 [==============================] - 0s 11ms/step - loss: 0.5524 - accuracy: 0.6667\n",
            "Epoch 35/100\n",
            "1/1 [==============================] - 0s 11ms/step - loss: 0.5521 - accuracy: 0.6667\n",
            "Epoch 36/100\n",
            "1/1 [==============================] - 0s 9ms/step - loss: 0.5517 - accuracy: 0.6667\n",
            "Epoch 37/100\n",
            "1/1 [==============================] - 0s 11ms/step - loss: 0.5514 - accuracy: 0.6667\n",
            "Epoch 38/100\n",
            "1/1 [==============================] - 0s 11ms/step - loss: 0.5511 - accuracy: 0.6667\n",
            "Epoch 39/100\n",
            "1/1 [==============================] - 0s 12ms/step - loss: 0.5507 - accuracy: 0.6667\n",
            "Epoch 40/100\n",
            "1/1 [==============================] - 0s 11ms/step - loss: 0.5504 - accuracy: 0.6667\n",
            "Epoch 41/100\n",
            "1/1 [==============================] - 0s 11ms/step - loss: 0.5501 - accuracy: 0.6667\n",
            "Epoch 42/100\n",
            "1/1 [==============================] - 0s 10ms/step - loss: 0.5497 - accuracy: 0.6667\n",
            "Epoch 43/100\n",
            "1/1 [==============================] - 0s 9ms/step - loss: 0.5494 - accuracy: 0.6667\n",
            "Epoch 44/100\n",
            "1/1 [==============================] - 0s 10ms/step - loss: 0.5491 - accuracy: 0.6667\n",
            "Epoch 45/100\n",
            "1/1 [==============================] - 0s 9ms/step - loss: 0.5487 - accuracy: 0.6667\n",
            "Epoch 46/100\n",
            "1/1 [==============================] - 0s 10ms/step - loss: 0.5484 - accuracy: 0.6667\n",
            "Epoch 47/100\n",
            "1/1 [==============================] - 0s 10ms/step - loss: 0.5481 - accuracy: 0.6667\n",
            "Epoch 48/100\n",
            "1/1 [==============================] - 0s 11ms/step - loss: 0.5478 - accuracy: 0.6667\n",
            "Epoch 49/100\n",
            "1/1 [==============================] - 0s 12ms/step - loss: 0.5475 - accuracy: 0.6667\n",
            "Epoch 50/100\n",
            "1/1 [==============================] - 0s 13ms/step - loss: 0.5471 - accuracy: 0.6667\n",
            "Epoch 51/100\n",
            "1/1 [==============================] - 0s 9ms/step - loss: 0.5468 - accuracy: 0.6667\n",
            "Epoch 52/100\n",
            "1/1 [==============================] - 0s 11ms/step - loss: 0.5465 - accuracy: 0.6667\n",
            "Epoch 53/100\n",
            "1/1 [==============================] - 0s 10ms/step - loss: 0.5462 - accuracy: 0.6667\n",
            "Epoch 54/100\n",
            "1/1 [==============================] - 0s 10ms/step - loss: 0.5459 - accuracy: 0.6667\n",
            "Epoch 55/100\n",
            "1/1 [==============================] - 0s 11ms/step - loss: 0.5456 - accuracy: 0.6667\n",
            "Epoch 56/100\n",
            "1/1 [==============================] - 0s 11ms/step - loss: 0.5453 - accuracy: 0.6667\n",
            "Epoch 57/100\n",
            "1/1 [==============================] - 0s 10ms/step - loss: 0.5449 - accuracy: 0.6667\n",
            "Epoch 58/100\n",
            "1/1 [==============================] - 0s 10ms/step - loss: 0.5446 - accuracy: 0.6667\n",
            "Epoch 59/100\n",
            "1/1 [==============================] - 0s 10ms/step - loss: 0.5443 - accuracy: 0.6667\n",
            "Epoch 60/100\n",
            "1/1 [==============================] - 0s 9ms/step - loss: 0.5440 - accuracy: 0.6667\n",
            "Epoch 61/100\n",
            "1/1 [==============================] - 0s 14ms/step - loss: 0.5437 - accuracy: 0.6667\n",
            "Epoch 62/100\n",
            "1/1 [==============================] - 0s 12ms/step - loss: 0.5433 - accuracy: 0.6667\n",
            "Epoch 63/100\n",
            "1/1 [==============================] - 0s 10ms/step - loss: 0.5430 - accuracy: 0.6667\n",
            "Epoch 64/100\n",
            "1/1 [==============================] - 0s 10ms/step - loss: 0.5427 - accuracy: 0.6667\n",
            "Epoch 65/100\n",
            "1/1 [==============================] - 0s 9ms/step - loss: 0.5424 - accuracy: 0.6667\n",
            "Epoch 66/100\n",
            "1/1 [==============================] - 0s 16ms/step - loss: 0.5420 - accuracy: 0.6667\n",
            "Epoch 67/100\n",
            "1/1 [==============================] - 0s 9ms/step - loss: 0.5417 - accuracy: 0.6667\n",
            "Epoch 68/100\n",
            "1/1 [==============================] - 0s 11ms/step - loss: 0.5414 - accuracy: 0.6667\n",
            "Epoch 69/100\n",
            "1/1 [==============================] - 0s 10ms/step - loss: 0.5411 - accuracy: 0.6667\n",
            "Epoch 70/100\n",
            "1/1 [==============================] - 0s 11ms/step - loss: 0.5407 - accuracy: 0.6667\n",
            "Epoch 71/100\n",
            "1/1 [==============================] - 0s 9ms/step - loss: 0.5404 - accuracy: 0.6667\n",
            "Epoch 72/100\n",
            "1/1 [==============================] - 0s 8ms/step - loss: 0.5401 - accuracy: 0.6667\n",
            "Epoch 73/100\n",
            "1/1 [==============================] - 0s 12ms/step - loss: 0.5398 - accuracy: 0.6667\n",
            "Epoch 74/100\n",
            "1/1 [==============================] - 0s 8ms/step - loss: 0.5394 - accuracy: 0.6667\n",
            "Epoch 75/100\n",
            "1/1 [==============================] - 0s 10ms/step - loss: 0.5391 - accuracy: 0.6667\n",
            "Epoch 76/100\n",
            "1/1 [==============================] - 0s 11ms/step - loss: 0.5388 - accuracy: 0.6667\n",
            "Epoch 77/100\n",
            "1/1 [==============================] - 0s 11ms/step - loss: 0.5385 - accuracy: 0.6667\n",
            "Epoch 78/100\n",
            "1/1 [==============================] - 0s 10ms/step - loss: 0.5381 - accuracy: 0.6667\n",
            "Epoch 79/100\n",
            "1/1 [==============================] - 0s 10ms/step - loss: 0.5378 - accuracy: 0.6667\n",
            "Epoch 80/100\n",
            "1/1 [==============================] - 0s 10ms/step - loss: 0.5375 - accuracy: 0.6667\n",
            "Epoch 81/100\n",
            "1/1 [==============================] - 0s 12ms/step - loss: 0.5372 - accuracy: 0.6667\n",
            "Epoch 82/100\n",
            "1/1 [==============================] - 0s 12ms/step - loss: 0.5368 - accuracy: 0.6667\n",
            "Epoch 83/100\n",
            "1/1 [==============================] - 0s 12ms/step - loss: 0.5365 - accuracy: 0.6667\n",
            "Epoch 84/100\n",
            "1/1 [==============================] - 0s 10ms/step - loss: 0.5362 - accuracy: 0.6667\n",
            "Epoch 85/100\n",
            "1/1 [==============================] - 0s 11ms/step - loss: 0.5359 - accuracy: 0.6667\n",
            "Epoch 86/100\n",
            "1/1 [==============================] - 0s 12ms/step - loss: 0.5355 - accuracy: 0.6667\n",
            "Epoch 87/100\n",
            "1/1 [==============================] - 0s 10ms/step - loss: 0.5352 - accuracy: 0.6667\n",
            "Epoch 88/100\n",
            "1/1 [==============================] - 0s 9ms/step - loss: 0.5349 - accuracy: 0.6667\n",
            "Epoch 89/100\n",
            "1/1 [==============================] - 0s 9ms/step - loss: 0.5345 - accuracy: 0.6667\n",
            "Epoch 90/100\n",
            "1/1 [==============================] - 0s 13ms/step - loss: 0.5342 - accuracy: 0.6667\n",
            "Epoch 91/100\n",
            "1/1 [==============================] - 0s 9ms/step - loss: 0.5339 - accuracy: 0.6667\n",
            "Epoch 92/100\n",
            "1/1 [==============================] - 0s 10ms/step - loss: 0.5336 - accuracy: 0.6667\n",
            "Epoch 93/100\n",
            "1/1 [==============================] - 0s 9ms/step - loss: 0.5332 - accuracy: 0.6667\n",
            "Epoch 94/100\n",
            "1/1 [==============================] - 0s 10ms/step - loss: 0.5329 - accuracy: 0.6667\n",
            "Epoch 95/100\n",
            "1/1 [==============================] - 0s 11ms/step - loss: 0.5326 - accuracy: 0.6667\n",
            "Epoch 96/100\n",
            "1/1 [==============================] - 0s 10ms/step - loss: 0.5322 - accuracy: 0.6667\n",
            "Epoch 97/100\n",
            "1/1 [==============================] - 0s 13ms/step - loss: 0.5319 - accuracy: 0.6667\n",
            "Epoch 98/100\n",
            "1/1 [==============================] - 0s 13ms/step - loss: 0.5316 - accuracy: 0.6667\n",
            "Epoch 99/100\n",
            "1/1 [==============================] - 0s 13ms/step - loss: 0.5312 - accuracy: 0.6667\n",
            "Epoch 100/100\n",
            "1/1 [==============================] - 0s 10ms/step - loss: 0.5309 - accuracy: 0.6667\n"
          ]
        },
        {
          "output_type": "execute_result",
          "data": {
            "text/plain": [
              "<keras.src.callbacks.History at 0x79fbfc25dd80>"
            ]
          },
          "metadata": {},
          "execution_count": 20
        }
      ]
    },
    {
      "cell_type": "code",
      "source": [
        "# uji untuk jam belajar: 1.5, 3.5, dan 5.5\n",
        "test_data = np.array([1.5, 3.5, 5.5])\n",
        "predictions = model.predict(test_data)\n",
        "\n",
        "for i, pred in enumerate(predictions):\n",
        "    print(f\"Jam belajar: {test_data[i]}, Kemungkinan lulus: {pred[0] * 100:.2f}%\")"
      ],
      "metadata": {
        "colab": {
          "base_uri": "https://localhost:8080/"
        },
        "id": "ckRg1L1Ox4Gz",
        "outputId": "256cd315-c9b6-4639-d7cc-421c57cc9b83"
      },
      "execution_count": null,
      "outputs": [
        {
          "output_type": "stream",
          "name": "stdout",
          "text": [
            "1/1 [==============================] - 0s 20ms/step\n",
            "Jam belajar: 1.5, Kemungkinan lulus: 50.36%\n",
            "Jam belajar: 3.5, Kemungkinan lulus: 67.41%\n",
            "Jam belajar: 5.5, Kemungkinan lulus: 80.84%\n"
          ]
        }
      ]
    },
    {
      "cell_type": "code",
      "source": [
        "plt.scatter(x_train, y_train, color='blue', label='Data')\n",
        "plt.scatter(test_data, predictions, color='red', label='Prediksi', marker='x')\n",
        "\n",
        "plt.xlabel('Jam Belajar')\n",
        "plt.ylabel('Kemungkinan Lulus')\n",
        "plt.title('Prediksi Kelulusan Berdasarkan Jam Belajar')\n",
        "plt.legend()\n",
        "plt.show()"
      ],
      "metadata": {
        "colab": {
          "base_uri": "https://localhost:8080/",
          "height": 472
        },
        "id": "5Iz-aPjw1Fj4",
        "outputId": "c2b254e4-978e-4aa3-ba0e-9e853c8d3f64"
      },
      "execution_count": 28,
      "outputs": [
        {
          "output_type": "display_data",
          "data": {
            "text/plain": [
              "<Figure size 640x480 with 1 Axes>"
            ],
            "image/png": "[encoded data removed]"
          },
          "metadata": {}
        }
      ]
    },
    {
      "cell_type": "code",
      "source": [
        "plot_model(model, to_file='model_plot.png', show_shapes=True, show_layer_names=True)"
      ],
      "metadata": {
        "colab": {
          "base_uri": "https://localhost:8080/",
          "height": 312
        },
        "id": "etTDn_JF0KZw",
        "outputId": "9b04d567-f785-4f62-f28a-4bb8d06bd542"
      },
      "execution_count": 27,
      "outputs": [
        {
          "output_type": "execute_result",
          "data": {
            "image/png": "[encoded data removed]",
            "text/plain": [
              "<IPython.core.display.Image object>"
            ]
          },
          "metadata": {},
          "execution_count": 27
        }
      ]
    }
  ]
}